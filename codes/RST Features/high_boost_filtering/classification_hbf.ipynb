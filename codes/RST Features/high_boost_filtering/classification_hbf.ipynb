{
 "cells": [
  {
   "cell_type": "code",
   "execution_count": 1,
   "metadata": {},
   "outputs": [],
   "source": [
    "import numpy as np\n",
    "import pandas as pd\n",
    "import matplotlib.pyplot as plt"
   ]
  },
  {
   "cell_type": "code",
   "execution_count": 2,
   "metadata": {},
   "outputs": [],
   "source": [
    "import cv2\n",
    "import glob\n",
    "from PIL import Image"
   ]
  },
  {
   "cell_type": "code",
   "execution_count": 3,
   "metadata": {},
   "outputs": [],
   "source": [
    "from sklearn.metrics import roc_curve \n",
    "from sklearn.metrics import roc_auc_score\n",
    "from sklearn.metrics import accuracy_score\n",
    "from sklearn.metrics import davies_bouldin_score\n",
    "from sklearn.preprocessing import StandardScaler"
   ]
  },
  {
   "cell_type": "code",
   "execution_count": 4,
   "metadata": {},
   "outputs": [],
   "source": [
    "from sklearn.svm import SVC\n",
    "from sklearn.decomposition import PCA\n",
    "from sklearn.model_selection import GridSearchCV\n",
    "from sklearn.model_selection import train_test_split"
   ]
  },
  {
   "cell_type": "code",
   "execution_count": 5,
   "metadata": {},
   "outputs": [],
   "source": [
    "import warnings\n",
    "warnings.filterwarnings(\"ignore\")"
   ]
  },
  {
   "cell_type": "markdown",
   "metadata": {},
   "source": [
    "# **Data Collection**"
   ]
  },
  {
   "cell_type": "code",
   "execution_count": 6,
   "metadata": {},
   "outputs": [],
   "source": [
    "X = []\n",
    "Y = []"
   ]
  },
  {
   "cell_type": "code",
   "execution_count": 7,
   "metadata": {},
   "outputs": [],
   "source": [
    "def calc_hu_moments(img):\n",
    "    moments = cv2.moments(img)\n",
    "    hu_moments = cv2.HuMoments(moments)\n",
    "    result = -np.sign(hu_moments) * np.log10(np.abs(hu_moments))\n",
    "    return result"
   ]
  },
  {
   "cell_type": "code",
   "execution_count": 8,
   "metadata": {},
   "outputs": [],
   "source": [
    "def high_boost_spatial_filter(img):\n",
    "  kernel = np.array([[-1, -1, -1],\n",
    "                     [-1, 11, -1],\n",
    "                     [-1, -1, -1]])\n",
    "\n",
    "  filter_img = cv2.filter2D(src=img, ddepth=-1, kernel=kernel)\n",
    "\n",
    "  return filter_img"
   ]
  },
  {
   "cell_type": "markdown",
   "metadata": {},
   "source": [
    "## **Bridge Decks**"
   ]
  },
  {
   "cell_type": "code",
   "execution_count": 9,
   "metadata": {},
   "outputs": [],
   "source": [
    "bd_class1 = f\"/Users/tipsijadav/Documents/crack_detection/data/D/CD/*\"\n",
    "bd_files_class1 = glob.glob(bd_class1)\n",
    "bd_files_class1 = np.random.choice(bd_files_class1, size=2000, replace=False)\n",
    "\n",
    "bd_class2 = f\"/Users/tipsijadav/Documents/crack_detection/data/D/UD/*\"\n",
    "bd_files_class2 = glob.glob(bd_class2)\n",
    "bd_files_class2 = np.random.choice(bd_files_class2, size=2000, replace=False)\n"
   ]
  },
  {
   "cell_type": "code",
   "execution_count": 10,
   "metadata": {},
   "outputs": [],
   "source": [
    "for i in range(len(bd_files_class1)):\n",
    "        image_read = Image.open(f\"{bd_files_class1[i]}\")\n",
    "        image_color = np.array(image_read)\n",
    "        \n",
    "        image_hbf = high_boost_spatial_filter(image_color)\n",
    "        image_gray = cv2.cvtColor(image_hbf, cv2.COLOR_RGB2GRAY)\n",
    "        image_thresh = cv2.adaptiveThreshold(image_gray, 255, cv2.ADAPTIVE_THRESH_MEAN_C, cv2.THRESH_BINARY, 13, 7)\n",
    "                \n",
    "        hu_moments_da = calc_hu_moments(image_thresh).reshape(1,-1)\n",
    "        hu_moments_da = np.abs(hu_moments_da)\n",
    "        phi_values = hu_moments_da[0][:]\n",
    "        \n",
    "        X.append(phi_values)\n",
    "        Y.append(1)"
   ]
  },
  {
   "cell_type": "code",
   "execution_count": 11,
   "metadata": {},
   "outputs": [],
   "source": [
    "for i in range(len(bd_files_class2)):\n",
    "        image_read = Image.open(f\"{bd_files_class2[i]}\")\n",
    "        image_color = np.array(image_read)\n",
    "        \n",
    "        image_hbf = high_boost_spatial_filter(image_color)\n",
    "        image_gray = cv2.cvtColor(image_hbf, cv2.COLOR_RGB2GRAY)\n",
    "        image_thresh = cv2.adaptiveThreshold(image_gray, 255, cv2.ADAPTIVE_THRESH_MEAN_C, cv2.THRESH_BINARY, 13, 7)\n",
    "                \n",
    "        hu_moments_da = calc_hu_moments(image_thresh).reshape(1,-1)\n",
    "        hu_moments_da = np.abs(hu_moments_da)\n",
    "        phi_values = hu_moments_da[0][:]\n",
    "        \n",
    "        X.append(phi_values)\n",
    "        Y.append(0)"
   ]
  },
  {
   "cell_type": "markdown",
   "metadata": {},
   "source": [
    "## **Walls**"
   ]
  },
  {
   "cell_type": "code",
   "execution_count": 12,
   "metadata": {},
   "outputs": [],
   "source": [
    "w_class1 = f\"/Users/tipsijadav/Documents/crack_detection/data/W/CW/*\"\n",
    "w_files_class1 = glob.glob(w_class1)\n",
    "w_files_class1 = np.random.choice(w_files_class1, size=2000, replace=False)\n",
    "\n",
    "w_class2 = f\"/Users/tipsijadav/Documents/crack_detection/data/W/UW/*\"\n",
    "w_files_class2 = glob.glob(w_class2)\n",
    "w_files_class2 = np.random.choice(w_files_class2, size=2000, replace=False)"
   ]
  },
  {
   "cell_type": "code",
   "execution_count": 13,
   "metadata": {},
   "outputs": [],
   "source": [
    "for i in range(len(w_files_class1)):\n",
    "        image_read = Image.open(f\"{w_files_class1[i]}\")\n",
    "        image_color = np.array(image_read)\n",
    "        \n",
    "        image_hbf = high_boost_spatial_filter(image_color)\n",
    "        image_gray = cv2.cvtColor(image_hbf, cv2.COLOR_RGB2GRAY)\n",
    "        image_thresh = cv2.adaptiveThreshold(image_gray, 255, cv2.ADAPTIVE_THRESH_MEAN_C, cv2.THRESH_BINARY, 13, 7)\n",
    "                \n",
    "        hu_moments_da = calc_hu_moments(image_thresh).reshape(1,-1)\n",
    "        hu_moments_da = np.abs(hu_moments_da)\n",
    "        phi_values = hu_moments_da[0][:]\n",
    "        \n",
    "        X.append(phi_values)\n",
    "        Y.append(1)"
   ]
  },
  {
   "cell_type": "code",
   "execution_count": 14,
   "metadata": {},
   "outputs": [],
   "source": [
    "for i in range(len(w_files_class2)):\n",
    "        image_read = Image.open(f\"{w_files_class2[i]}\")\n",
    "        image_color = np.array(image_read)\n",
    "        \n",
    "        image_hbf = high_boost_spatial_filter(image_color)\n",
    "        image_gray = cv2.cvtColor(image_hbf, cv2.COLOR_RGB2GRAY)\n",
    "        image_thresh = cv2.adaptiveThreshold(image_gray, 255, cv2.ADAPTIVE_THRESH_MEAN_C, cv2.THRESH_BINARY, 13, 7)\n",
    "                \n",
    "        hu_moments_da = calc_hu_moments(image_thresh).reshape(1,-1)\n",
    "        hu_moments_da = np.abs(hu_moments_da)\n",
    "        phi_values = hu_moments_da[0][:]\n",
    "        \n",
    "        X.append(phi_values)\n",
    "        Y.append(0)"
   ]
  },
  {
   "cell_type": "markdown",
   "metadata": {},
   "source": [
    "## **Pavements**"
   ]
  },
  {
   "cell_type": "code",
   "execution_count": 15,
   "metadata": {},
   "outputs": [],
   "source": [
    "p_class1 = f\"/Users/tipsijadav/Documents/crack_detection/data/P/CP/*\"\n",
    "p_files_class1 = glob.glob(p_class1)\n",
    "p_files_class1 = np.random.choice(p_files_class1, size=2000, replace=False)\n",
    "\n",
    "p_class2 = f\"/Users/tipsijadav/Documents/crack_detection/data/P/UP/*\"\n",
    "p_files_class2 = glob.glob(p_class2)\n",
    "p_files_class2 = np.random.choice(p_files_class2, size=2000, replace=False)"
   ]
  },
  {
   "cell_type": "code",
   "execution_count": 16,
   "metadata": {},
   "outputs": [],
   "source": [
    "for i in range(len(p_files_class1)):\n",
    "        image_read = Image.open(f\"{p_files_class1[i]}\")\n",
    "        image_color = np.array(image_read)\n",
    "        \n",
    "        image_hbf = high_boost_spatial_filter(image_color)\n",
    "        image_gray = cv2.cvtColor(image_hbf, cv2.COLOR_RGB2GRAY)\n",
    "        image_thresh = cv2.adaptiveThreshold(image_gray, 255, cv2.ADAPTIVE_THRESH_MEAN_C, cv2.THRESH_BINARY, 13, 7)\n",
    "                \n",
    "        hu_moments_da = calc_hu_moments(image_thresh).reshape(1,-1)\n",
    "        hu_moments_da = np.abs(hu_moments_da)\n",
    "        phi_values = hu_moments_da[0][:]\n",
    "        \n",
    "        X.append(phi_values)\n",
    "        Y.append(1)"
   ]
  },
  {
   "cell_type": "code",
   "execution_count": 17,
   "metadata": {},
   "outputs": [],
   "source": [
    "for i in range(len(p_files_class2)):\n",
    "        image_read = Image.open(f\"{p_files_class2[i]}\")\n",
    "        image_color = np.array(image_read)\n",
    "        \n",
    "        image_hbf = high_boost_spatial_filter(image_color)\n",
    "        image_gray = cv2.cvtColor(image_hbf, cv2.COLOR_RGB2GRAY)\n",
    "        image_thresh = cv2.adaptiveThreshold(image_gray, 255, cv2.ADAPTIVE_THRESH_MEAN_C, cv2.THRESH_BINARY, 13, 7)\n",
    "                \n",
    "        hu_moments_da = calc_hu_moments(image_thresh).reshape(1,-1)\n",
    "        hu_moments_da = np.abs(hu_moments_da)\n",
    "        phi_values = hu_moments_da[0][:]\n",
    "        \n",
    "        X.append(phi_values)\n",
    "        Y.append(0)"
   ]
  },
  {
   "cell_type": "code",
   "execution_count": 18,
   "metadata": {},
   "outputs": [],
   "source": [
    "X = np.array(X)\n",
    "Y = np.array(Y)"
   ]
  },
  {
   "cell_type": "code",
   "execution_count": 19,
   "metadata": {},
   "outputs": [],
   "source": [
    "data = np.hstack((X, Y.reshape(-1, 1)))\n",
    "\n",
    "data_cleaned = data[~np.isnan(data).any(axis=1)]\n",
    "\n",
    "X = data_cleaned[:, :-1]\n",
    "Y = data_cleaned[:, -1].astype(int)"
   ]
  },
  {
   "cell_type": "markdown",
   "metadata": {},
   "source": [
    "# **Train-Test Split**"
   ]
  },
  {
   "cell_type": "code",
   "execution_count": 20,
   "metadata": {},
   "outputs": [],
   "source": [
    "X_train, X_test, Y_train, Y_test = train_test_split(X, Y, test_size=0.3, random_state=42)"
   ]
  },
  {
   "cell_type": "markdown",
   "metadata": {},
   "source": [
    "# **Standard Scaler**"
   ]
  },
  {
   "cell_type": "code",
   "execution_count": 21,
   "metadata": {},
   "outputs": [],
   "source": [
    "scaler = StandardScaler()\n",
    "X_train_scaled = scaler.fit_transform(X_train)\n",
    "X_test_scaled = scaler.transform(X_test)"
   ]
  },
  {
   "cell_type": "markdown",
   "metadata": {},
   "source": [
    "# **Principal Component Analysis**"
   ]
  },
  {
   "cell_type": "code",
   "execution_count": 22,
   "metadata": {},
   "outputs": [],
   "source": [
    "pca = PCA(n_components=2)\n",
    "X_train_pca = pca.fit_transform(X_train_scaled)\n",
    "X_test_pca = pca.transform(X_test_scaled)"
   ]
  },
  {
   "cell_type": "code",
   "execution_count": 23,
   "metadata": {},
   "outputs": [],
   "source": [
    "class1 = X_test_pca[Y_test == 1]\n",
    "class2 = X_test_pca[Y_test == 0]"
   ]
  },
  {
   "cell_type": "code",
   "execution_count": 24,
   "metadata": {},
   "outputs": [
    {
     "data": {
      "image/png": "[encoded data removed]",
      "text/plain": [
       "<Figure size 640x480 with 1 Axes>"
      ]
     },
     "metadata": {},
     "output_type": "display_data"
    }
   ],
   "source": [
    "plt.scatter(class1[:,0], class1[:,1], c='blue', s=1, label='Crack')\n",
    "plt.scatter(class2[:,0], class2[:,1], c='red', s=1, label='No-crack')\n",
    "\n",
    "plt.xlabel(\"PC1\")\n",
    "plt.ylabel(\"PC2\")\n",
    "\n",
    "plt.legend()\n",
    "plt.show()"
   ]
  },
  {
   "cell_type": "markdown",
   "metadata": {},
   "source": [
    "# **Davies-Bouldin Index**"
   ]
  },
  {
   "cell_type": "code",
   "execution_count": 25,
   "metadata": {},
   "outputs": [
    {
     "name": "stdout",
     "output_type": "stream",
     "text": [
      "Davies-Bouldin Index: 5.93\n"
     ]
    }
   ],
   "source": [
    "db_index = davies_bouldin_score(X_test_pca, Y_test)\n",
    "print(f\"Davies-Bouldin Index: {db_index:.2f}\")"
   ]
  },
  {
   "cell_type": "markdown",
   "metadata": {},
   "source": [
    "# **Support Vector Machine**"
   ]
  },
  {
   "cell_type": "code",
   "execution_count": 26,
   "metadata": {},
   "outputs": [],
   "source": [
    "classes = [\"Crack\", \"No-crack\"]"
   ]
  },
  {
   "cell_type": "code",
   "execution_count": 27,
   "metadata": {},
   "outputs": [],
   "source": [
    "svm_classifier = SVC(random_state=42)"
   ]
  },
  {
   "cell_type": "code",
   "execution_count": 28,
   "metadata": {},
   "outputs": [],
   "source": [
    "param_grid = {\n",
    "    'C': [0.01, 0.1, 1, 10, 100],\n",
    "    'kernel': ['linear', 'rbf', 'poly'],\n",
    "    'degree': [2, 3],\n",
    "    }"
   ]
  },
  {
   "cell_type": "code",
   "execution_count": 29,
   "metadata": {},
   "outputs": [
    {
     "name": "stdout",
     "output_type": "stream",
     "text": [
      "Fitting 5 folds for each of 30 candidates, totalling 150 fits\n",
      "[CV] END ....................C=0.01, degree=2, kernel=linear; total time=   0.5s\n",
      "[CV] END ....................C=0.01, degree=2, kernel=linear; total time=   0.5s\n",
      "[CV] END ....................C=0.01, degree=2, kernel=linear; total time=   0.5s\n",
      "[CV] END ....................C=0.01, degree=2, kernel=linear; total time=   0.5s\n",
      "[CV] END ....................C=0.01, degree=2, kernel=linear; total time=   0.5s\n",
      "[CV] END .......................C=0.01, degree=2, kernel=rbf; total time=   0.8s\n",
      "[CV] END .......................C=0.01, degree=2, kernel=rbf; total time=   0.9s\n",
      "[CV] END .......................C=0.01, degree=2, kernel=rbf; total time=   0.9s\n",
      "[CV] END .......................C=0.01, degree=2, kernel=rbf; total time=   0.9s\n",
      "[CV] END .......................C=0.01, degree=2, kernel=rbf; total time=   0.9s\n",
      "[CV] END ......................C=0.01, degree=2, kernel=poly; total time=   0.6s\n",
      "[CV] END ......................C=0.01, degree=2, kernel=poly; total time=   0.6s\n",
      "[CV] END ......................C=0.01, degree=2, kernel=poly; total time=   0.6s\n",
      "[CV] END ......................C=0.01, degree=2, kernel=poly; total time=   0.6s\n",
      "[CV] END ......................C=0.01, degree=2, kernel=poly; total time=   0.6s\n",
      "[CV] END ....................C=0.01, degree=3, kernel=linear; total time=   0.5s\n",
      "[CV] END ....................C=0.01, degree=3, kernel=linear; total time=   0.6s\n",
      "[CV] END ....................C=0.01, degree=3, kernel=linear; total time=   0.5s\n",
      "[CV] END ....................C=0.01, degree=3, kernel=linear; total time=   0.5s\n",
      "[CV] END ....................C=0.01, degree=3, kernel=linear; total time=   0.5s\n",
      "[CV] END .......................C=0.01, degree=3, kernel=rbf; total time=   1.0s\n",
      "[CV] END .......................C=0.01, degree=3, kernel=rbf; total time=   0.9s\n",
      "[CV] END .......................C=0.01, degree=3, kernel=rbf; total time=   1.0s\n",
      "[CV] END .......................C=0.01, degree=3, kernel=rbf; total time=   1.0s\n",
      "[CV] END .......................C=0.01, degree=3, kernel=rbf; total time=   0.9s\n",
      "[CV] END ......................C=0.01, degree=3, kernel=poly; total time=   0.6s\n",
      "[CV] END ......................C=0.01, degree=3, kernel=poly; total time=   0.6s\n",
      "[CV] END ......................C=0.01, degree=3, kernel=poly; total time=   0.7s\n",
      "[CV] END ......................C=0.01, degree=3, kernel=poly; total time=   0.8s\n",
      "[CV] END ......................C=0.01, degree=3, kernel=poly; total time=   0.7s\n",
      "[CV] END .....................C=0.1, degree=2, kernel=linear; total time=   0.5s\n",
      "[CV] END .....................C=0.1, degree=2, kernel=linear; total time=   0.6s\n",
      "[CV] END .....................C=0.1, degree=2, kernel=linear; total time=   0.5s\n",
      "[CV] END .....................C=0.1, degree=2, kernel=linear; total time=   0.5s\n",
      "[CV] END .....................C=0.1, degree=2, kernel=linear; total time=   0.6s\n",
      "[CV] END ........................C=0.1, degree=2, kernel=rbf; total time=   0.9s\n",
      "[CV] END ........................C=0.1, degree=2, kernel=rbf; total time=   0.9s\n",
      "[CV] END ........................C=0.1, degree=2, kernel=rbf; total time=   0.8s\n",
      "[CV] END ........................C=0.1, degree=2, kernel=rbf; total time=   0.8s\n",
      "[CV] END ........................C=0.1, degree=2, kernel=rbf; total time=   0.9s\n",
      "[CV] END .......................C=0.1, degree=2, kernel=poly; total time=   0.8s\n",
      "[CV] END .......................C=0.1, degree=2, kernel=poly; total time=   0.7s\n",
      "[CV] END .......................C=0.1, degree=2, kernel=poly; total time=   0.6s\n",
      "[CV] END .......................C=0.1, degree=2, kernel=poly; total time=   0.6s\n",
      "[CV] END .......................C=0.1, degree=2, kernel=poly; total time=   0.8s\n",
      "[CV] END .....................C=0.1, degree=3, kernel=linear; total time=   0.5s\n",
      "[CV] END .....................C=0.1, degree=3, kernel=linear; total time=   0.6s\n",
      "[CV] END .....................C=0.1, degree=3, kernel=linear; total time=   0.5s\n",
      "[CV] END .....................C=0.1, degree=3, kernel=linear; total time=   0.5s\n",
      "[CV] END .....................C=0.1, degree=3, kernel=linear; total time=   0.5s\n",
      "[CV] END ........................C=0.1, degree=3, kernel=rbf; total time=   0.8s\n",
      "[CV] END ........................C=0.1, degree=3, kernel=rbf; total time=   0.8s\n",
      "[CV] END ........................C=0.1, degree=3, kernel=rbf; total time=   0.8s\n",
      "[CV] END ........................C=0.1, degree=3, kernel=rbf; total time=   0.8s\n",
      "[CV] END ........................C=0.1, degree=3, kernel=rbf; total time=   0.9s\n",
      "[CV] END .......................C=0.1, degree=3, kernel=poly; total time=   0.7s\n",
      "[CV] END .......................C=0.1, degree=3, kernel=poly; total time=   0.7s\n",
      "[CV] END .......................C=0.1, degree=3, kernel=poly; total time=   0.6s\n",
      "[CV] END .......................C=0.1, degree=3, kernel=poly; total time=   0.6s\n",
      "[CV] END .......................C=0.1, degree=3, kernel=poly; total time=   0.6s\n",
      "[CV] END .......................C=1, degree=2, kernel=linear; total time=   0.7s\n",
      "[CV] END .......................C=1, degree=2, kernel=linear; total time=   0.7s\n",
      "[CV] END .......................C=1, degree=2, kernel=linear; total time=   0.7s\n",
      "[CV] END .......................C=1, degree=2, kernel=linear; total time=   0.6s\n",
      "[CV] END .......................C=1, degree=2, kernel=linear; total time=   0.6s\n",
      "[CV] END ..........................C=1, degree=2, kernel=rbf; total time=   0.8s\n",
      "[CV] END ..........................C=1, degree=2, kernel=rbf; total time=   0.9s\n",
      "[CV] END ..........................C=1, degree=2, kernel=rbf; total time=   0.8s\n",
      "[CV] END ..........................C=1, degree=2, kernel=rbf; total time=   0.8s\n",
      "[CV] END ..........................C=1, degree=2, kernel=rbf; total time=   0.9s\n",
      "[CV] END .........................C=1, degree=2, kernel=poly; total time=   1.0s\n",
      "[CV] END .........................C=1, degree=2, kernel=poly; total time=   0.8s\n",
      "[CV] END .........................C=1, degree=2, kernel=poly; total time=   0.8s\n",
      "[CV] END .........................C=1, degree=2, kernel=poly; total time=   0.8s\n",
      "[CV] END .........................C=1, degree=2, kernel=poly; total time=   0.6s\n",
      "[CV] END .......................C=1, degree=3, kernel=linear; total time=   0.7s\n",
      "[CV] END .......................C=1, degree=3, kernel=linear; total time=   0.7s\n",
      "[CV] END .......................C=1, degree=3, kernel=linear; total time=   0.7s\n",
      "[CV] END .......................C=1, degree=3, kernel=linear; total time=   0.7s\n",
      "[CV] END .......................C=1, degree=3, kernel=linear; total time=   0.6s\n",
      "[CV] END ..........................C=1, degree=3, kernel=rbf; total time=   0.8s\n",
      "[CV] END ..........................C=1, degree=3, kernel=rbf; total time=   0.8s\n",
      "[CV] END ..........................C=1, degree=3, kernel=rbf; total time=   0.8s\n",
      "[CV] END ..........................C=1, degree=3, kernel=rbf; total time=   0.8s\n",
      "[CV] END ..........................C=1, degree=3, kernel=rbf; total time=   0.8s\n",
      "[CV] END .........................C=1, degree=3, kernel=poly; total time=   0.8s\n",
      "[CV] END .........................C=1, degree=3, kernel=poly; total time=   0.8s\n",
      "[CV] END .........................C=1, degree=3, kernel=poly; total time=   0.7s\n",
      "[CV] END .........................C=1, degree=3, kernel=poly; total time=   0.8s\n",
      "[CV] END .........................C=1, degree=3, kernel=poly; total time=   0.7s\n",
      "[CV] END ......................C=10, degree=2, kernel=linear; total time=   1.4s\n",
      "[CV] END ......................C=10, degree=2, kernel=linear; total time=   1.3s\n",
      "[CV] END ......................C=10, degree=2, kernel=linear; total time=   1.3s\n",
      "[CV] END ......................C=10, degree=2, kernel=linear; total time=   1.4s\n",
      "[CV] END ......................C=10, degree=2, kernel=linear; total time=   1.4s\n",
      "[CV] END .........................C=10, degree=2, kernel=rbf; total time=   1.1s\n",
      "[CV] END .........................C=10, degree=2, kernel=rbf; total time=   1.0s\n",
      "[CV] END .........................C=10, degree=2, kernel=rbf; total time=   1.0s\n",
      "[CV] END .........................C=10, degree=2, kernel=rbf; total time=   1.0s\n",
      "[CV] END .........................C=10, degree=2, kernel=rbf; total time=   1.0s\n",
      "[CV] END ........................C=10, degree=2, kernel=poly; total time=   1.7s\n",
      "[CV] END ........................C=10, degree=2, kernel=poly; total time=   0.8s\n",
      "[CV] END ........................C=10, degree=2, kernel=poly; total time=   0.7s\n",
      "[CV] END ........................C=10, degree=2, kernel=poly; total time=   1.3s\n",
      "[CV] END ........................C=10, degree=2, kernel=poly; total time=   0.9s\n",
      "[CV] END ......................C=10, degree=3, kernel=linear; total time=   1.3s\n",
      "[CV] END ......................C=10, degree=3, kernel=linear; total time=   1.2s\n",
      "[CV] END ......................C=10, degree=3, kernel=linear; total time=   1.3s\n",
      "[CV] END ......................C=10, degree=3, kernel=linear; total time=   1.3s\n",
      "[CV] END ......................C=10, degree=3, kernel=linear; total time=   1.3s\n",
      "[CV] END .........................C=10, degree=3, kernel=rbf; total time=   0.9s\n",
      "[CV] END .........................C=10, degree=3, kernel=rbf; total time=   0.9s\n",
      "[CV] END .........................C=10, degree=3, kernel=rbf; total time=   0.9s\n",
      "[CV] END .........................C=10, degree=3, kernel=rbf; total time=   0.9s\n",
      "[CV] END .........................C=10, degree=3, kernel=rbf; total time=   0.9s\n",
      "[CV] END ........................C=10, degree=3, kernel=poly; total time=   1.7s\n",
      "[CV] END ........................C=10, degree=3, kernel=poly; total time=   1.4s\n",
      "[CV] END ........................C=10, degree=3, kernel=poly; total time=   1.7s\n",
      "[CV] END ........................C=10, degree=3, kernel=poly; total time=   1.5s\n",
      "[CV] END ........................C=10, degree=3, kernel=poly; total time=   1.4s\n",
      "[CV] END .....................C=100, degree=2, kernel=linear; total time=   4.0s\n",
      "[CV] END .....................C=100, degree=2, kernel=linear; total time=   4.0s\n",
      "[CV] END .....................C=100, degree=2, kernel=linear; total time=   4.0s\n",
      "[CV] END .....................C=100, degree=2, kernel=linear; total time=   3.7s\n",
      "[CV] END .....................C=100, degree=2, kernel=linear; total time=   3.7s\n",
      "[CV] END ........................C=100, degree=2, kernel=rbf; total time=   1.3s\n",
      "[CV] END ........................C=100, degree=2, kernel=rbf; total time=   1.3s\n",
      "[CV] END ........................C=100, degree=2, kernel=rbf; total time=   1.2s\n",
      "[CV] END ........................C=100, degree=2, kernel=rbf; total time=   1.2s\n",
      "[CV] END ........................C=100, degree=2, kernel=rbf; total time=   1.4s\n",
      "[CV] END .......................C=100, degree=2, kernel=poly; total time=  10.1s\n",
      "[CV] END .......................C=100, degree=2, kernel=poly; total time=   1.9s\n",
      "[CV] END .......................C=100, degree=2, kernel=poly; total time=  32.6s\n",
      "[CV] END .......................C=100, degree=2, kernel=poly; total time=   4.6s\n",
      "[CV] END .......................C=100, degree=2, kernel=poly; total time=   2.3s\n",
      "[CV] END .....................C=100, degree=3, kernel=linear; total time=   3.9s\n",
      "[CV] END .....................C=100, degree=3, kernel=linear; total time=   4.0s\n",
      "[CV] END .....................C=100, degree=3, kernel=linear; total time=   4.0s\n",
      "[CV] END .....................C=100, degree=3, kernel=linear; total time=   3.7s\n",
      "[CV] END .....................C=100, degree=3, kernel=linear; total time=   3.7s\n",
      "[CV] END ........................C=100, degree=3, kernel=rbf; total time=   1.3s\n",
      "[CV] END ........................C=100, degree=3, kernel=rbf; total time=   1.3s\n",
      "[CV] END ........................C=100, degree=3, kernel=rbf; total time=   1.2s\n",
      "[CV] END ........................C=100, degree=3, kernel=rbf; total time=   1.2s\n",
      "[CV] END ........................C=100, degree=3, kernel=rbf; total time=   1.3s\n",
      "[CV] END .......................C=100, degree=3, kernel=poly; total time=   5.2s\n",
      "[CV] END .......................C=100, degree=3, kernel=poly; total time=   6.1s\n",
      "[CV] END .......................C=100, degree=3, kernel=poly; total time=   5.9s\n",
      "[CV] END .......................C=100, degree=3, kernel=poly; total time=   5.5s\n",
      "[CV] END .......................C=100, degree=3, kernel=poly; total time=   4.2s\n"
     ]
    },
    {
     "data": {
      "text/html": [
       "<style>#sk-container-id-1 {\n",
       "  /* Definition of color scheme common for light and dark mode */\n",
       "  --sklearn-color-text: black;\n",
       "  --sklearn-color-line: gray;\n",
       "  /* Definition of color scheme for unfitted estimators */\n",
       "  --sklearn-color-unfitted-level-0: #fff5e6;\n",
       "  --sklearn-color-unfitted-level-1: #f6e4d2;\n",
       "  --sklearn-color-unfitted-level-2: #ffe0b3;\n",
       "  --sklearn-color-unfitted-level-3: chocolate;\n",
       "  /* Definition of color scheme for fitted estimators */\n",
       "  --sklearn-color-fitted-level-0: #f0f8ff;\n",
       "  --sklearn-color-fitted-level-1: #d4ebff;\n",
       "  --sklearn-color-fitted-level-2: #b3dbfd;\n",
       "  --sklearn-color-fitted-level-3: cornflowerblue;\n",
       "\n",
       "  /* Specific color for light theme */\n",
       "  --sklearn-color-text-on-default-background: var(--sg-text-color, var(--theme-code-foreground, var(--jp-content-font-color1, black)));\n",
       "  --sklearn-color-background: var(--sg-background-color, var(--theme-background, var(--jp-layout-color0, white)));\n",
       "  --sklearn-color-border-box: var(--sg-text-color, var(--theme-code-foreground, var(--jp-content-font-color1, black)));\n",
       "  --sklearn-color-icon: #696969;\n",
       "\n",
       "  @media (prefers-color-scheme: dark) {\n",
       "    /* Redefinition of color scheme for dark theme */\n",
       "    --sklearn-color-text-on-default-background: var(--sg-text-color, var(--theme-code-foreground, var(--jp-content-font-color1, white)));\n",
       "    --sklearn-color-background: var(--sg-background-color, var(--theme-background, var(--jp-layout-color0, #111)));\n",
       "    --sklearn-color-border-box: var(--sg-text-color, var(--theme-code-foreground, var(--jp-content-font-color1, white)));\n",
       "    --sklearn-color-icon: #878787;\n",
       "  }\n",
       "}\n",
       "\n",
       "#sk-container-id-1 {\n",
       "  color: var(--sklearn-color-text);\n",
       "}\n",
       "\n",
       "#sk-container-id-1 pre {\n",
       "  padding: 0;\n",
       "}\n",
       "\n",
       "#sk-container-id-1 input.sk-hidden--visually {\n",
       "  border: 0;\n",
       "  clip: rect(1px 1px 1px 1px);\n",
       "  clip: rect(1px, 1px, 1px, 1px);\n",
       "  height: 1px;\n",
       "  margin: -1px;\n",
       "  overflow: hidden;\n",
       "  padding: 0;\n",
       "  position: absolute;\n",
       "  width: 1px;\n",
       "}\n",
       "\n",
       "#sk-container-id-1 div.sk-dashed-wrapped {\n",
       "  border: 1px dashed var(--sklearn-color-line);\n",
       "  margin: 0 0.4em 0.5em 0.4em;\n",
       "  box-sizing: border-box;\n",
       "  padding-bottom: 0.4em;\n",
       "  background-color: var(--sklearn-color-background);\n",
       "}\n",
       "\n",
       "#sk-container-id-1 div.sk-container {\n",
       "  /* jupyter's `normalize.less` sets `[hidden] { display: none; }`\n",
       "     but bootstrap.min.css set `[hidden] { display: none !important; }`\n",
       "     so we also need the `!important` here to be able to override the\n",
       "     default hidden behavior on the sphinx rendered scikit-learn.org.\n",
       "     See: https://github.com/scikit-learn/scikit-learn/issues/21755 */\n",
       "  display: inline-block !important;\n",
       "  position: relative;\n",
       "}\n",
       "\n",
       "#sk-container-id-1 div.sk-text-repr-fallback {\n",
       "  display: none;\n",
       "}\n",
       "\n",
       "div.sk-parallel-item,\n",
       "div.sk-serial,\n",
       "div.sk-item {\n",
       "  /* draw centered vertical line to link estimators */\n",
       "  background-image: linear-gradient(var(--sklearn-color-text-on-default-background), var(--sklearn-color-text-on-default-background));\n",
       "  background-size: 2px 100%;\n",
       "  background-repeat: no-repeat;\n",
       "  background-position: center center;\n",
       "}\n",
       "\n",
       "/* Parallel-specific style estimator block */\n",
       "\n",
       "#sk-container-id-1 div.sk-parallel-item::after {\n",
       "  content: \"\";\n",
       "  width: 100%;\n",
       "  border-bottom: 2px solid var(--sklearn-color-text-on-default-background);\n",
       "  flex-grow: 1;\n",
       "}\n",
       "\n",
       "#sk-container-id-1 div.sk-parallel {\n",
       "  display: flex;\n",
       "  align-items: stretch;\n",
       "  justify-content: center;\n",
       "  background-color: var(--sklearn-color-background);\n",
       "  position: relative;\n",
       "}\n",
       "\n",
       "#sk-container-id-1 div.sk-parallel-item {\n",
       "  display: flex;\n",
       "  flex-direction: column;\n",
       "}\n",
       "\n",
       "#sk-container-id-1 div.sk-parallel-item:first-child::after {\n",
       "  align-self: flex-end;\n",
       "  width: 50%;\n",
       "}\n",
       "\n",
       "#sk-container-id-1 div.sk-parallel-item:last-child::after {\n",
       "  align-self: flex-start;\n",
       "  width: 50%;\n",
       "}\n",
       "\n",
       "#sk-container-id-1 div.sk-parallel-item:only-child::after {\n",
       "  width: 0;\n",
       "}\n",
       "\n",
       "/* Serial-specific style estimator block */\n",
       "\n",
       "#sk-container-id-1 div.sk-serial {\n",
       "  display: flex;\n",
       "  flex-direction: column;\n",
       "  align-items: center;\n",
       "  background-color: var(--sklearn-color-background);\n",
       "  padding-right: 1em;\n",
       "  padding-left: 1em;\n",
       "}\n",
       "\n",
       "\n",
       "/* Toggleable style: style used for estimator/Pipeline/ColumnTransformer box that is\n",
       "clickable and can be expanded/collapsed.\n",
       "- Pipeline and ColumnTransformer use this feature and define the default style\n",
       "- Estimators will overwrite some part of the style using the `sk-estimator` class\n",
       "*/\n",
       "\n",
       "/* Pipeline and ColumnTransformer style (default) */\n",
       "\n",
       "#sk-container-id-1 div.sk-toggleable {\n",
       "  /* Default theme specific background. It is overwritten whether we have a\n",
       "  specific estimator or a Pipeline/ColumnTransformer */\n",
       "  background-color: var(--sklearn-color-background);\n",
       "}\n",
       "\n",
       "/* Toggleable label */\n",
       "#sk-container-id-1 label.sk-toggleable__label {\n",
       "  cursor: pointer;\n",
       "  display: block;\n",
       "  width: 100%;\n",
       "  margin-bottom: 0;\n",
       "  padding: 0.5em;\n",
       "  box-sizing: border-box;\n",
       "  text-align: center;\n",
       "}\n",
       "\n",
       "#sk-container-id-1 label.sk-toggleable__label-arrow:before {\n",
       "  /* Arrow on the left of the label */\n",
       "  content: \"▸\";\n",
       "  float: left;\n",
       "  margin-right: 0.25em;\n",
       "  color: var(--sklearn-color-icon);\n",
       "}\n",
       "\n",
       "#sk-container-id-1 label.sk-toggleable__label-arrow:hover:before {\n",
       "  color: var(--sklearn-color-text);\n",
       "}\n",
       "\n",
       "/* Toggleable content - dropdown */\n",
       "\n",
       "#sk-container-id-1 div.sk-toggleable__content {\n",
       "  max-height: 0;\n",
       "  max-width: 0;\n",
       "  overflow: hidden;\n",
       "  text-align: left;\n",
       "  /* unfitted */\n",
       "  background-color: var(--sklearn-color-unfitted-level-0);\n",
       "}\n",
       "\n",
       "#sk-container-id-1 div.sk-toggleable__content.fitted {\n",
       "  /* fitted */\n",
       "  background-color: var(--sklearn-color-fitted-level-0);\n",
       "}\n",
       "\n",
       "#sk-container-id-1 div.sk-toggleable__content pre {\n",
       "  margin: 0.2em;\n",
       "  border-radius: 0.25em;\n",
       "  color: var(--sklearn-color-text);\n",
       "  /* unfitted */\n",
       "  background-color: var(--sklearn-color-unfitted-level-0);\n",
       "}\n",
       "\n",
       "#sk-container-id-1 div.sk-toggleable__content.fitted pre {\n",
       "  /* unfitted */\n",
       "  background-color: var(--sklearn-color-fitted-level-0);\n",
       "}\n",
       "\n",
       "#sk-container-id-1 input.sk-toggleable__control:checked~div.sk-toggleable__content {\n",
       "  /* Expand drop-down */\n",
       "  max-height: 200px;\n",
       "  max-width: 100%;\n",
       "  overflow: auto;\n",
       "}\n",
       "\n",
       "#sk-container-id-1 input.sk-toggleable__control:checked~label.sk-toggleable__label-arrow:before {\n",
       "  content: \"▾\";\n",
       "}\n",
       "\n",
       "/* Pipeline/ColumnTransformer-specific style */\n",
       "\n",
       "#sk-container-id-1 div.sk-label input.sk-toggleable__control:checked~label.sk-toggleable__label {\n",
       "  color: var(--sklearn-color-text);\n",
       "  background-color: var(--sklearn-color-unfitted-level-2);\n",
       "}\n",
       "\n",
       "#sk-container-id-1 div.sk-label.fitted input.sk-toggleable__control:checked~label.sk-toggleable__label {\n",
       "  background-color: var(--sklearn-color-fitted-level-2);\n",
       "}\n",
       "\n",
       "/* Estimator-specific style */\n",
       "\n",
       "/* Colorize estimator box */\n",
       "#sk-container-id-1 div.sk-estimator input.sk-toggleable__control:checked~label.sk-toggleable__label {\n",
       "  /* unfitted */\n",
       "  background-color: var(--sklearn-color-unfitted-level-2);\n",
       "}\n",
       "\n",
       "#sk-container-id-1 div.sk-estimator.fitted input.sk-toggleable__control:checked~label.sk-toggleable__label {\n",
       "  /* fitted */\n",
       "  background-color: var(--sklearn-color-fitted-level-2);\n",
       "}\n",
       "\n",
       "#sk-container-id-1 div.sk-label label.sk-toggleable__label,\n",
       "#sk-container-id-1 div.sk-label label {\n",
       "  /* The background is the default theme color */\n",
       "  color: var(--sklearn-color-text-on-default-background);\n",
       "}\n",
       "\n",
       "/* On hover, darken the color of the background */\n",
       "#sk-container-id-1 div.sk-label:hover label.sk-toggleable__label {\n",
       "  color: var(--sklearn-color-text);\n",
       "  background-color: var(--sklearn-color-unfitted-level-2);\n",
       "}\n",
       "\n",
       "/* Label box, darken color on hover, fitted */\n",
       "#sk-container-id-1 div.sk-label.fitted:hover label.sk-toggleable__label.fitted {\n",
       "  color: var(--sklearn-color-text);\n",
       "  background-color: var(--sklearn-color-fitted-level-2);\n",
       "}\n",
       "\n",
       "/* Estimator label */\n",
       "\n",
       "#sk-container-id-1 div.sk-label label {\n",
       "  font-family: monospace;\n",
       "  font-weight: bold;\n",
       "  display: inline-block;\n",
       "  line-height: 1.2em;\n",
       "}\n",
       "\n",
       "#sk-container-id-1 div.sk-label-container {\n",
       "  text-align: center;\n",
       "}\n",
       "\n",
       "/* Estimator-specific */\n",
       "#sk-container-id-1 div.sk-estimator {\n",
       "  font-family: monospace;\n",
       "  border: 1px dotted var(--sklearn-color-border-box);\n",
       "  border-radius: 0.25em;\n",
       "  box-sizing: border-box;\n",
       "  margin-bottom: 0.5em;\n",
       "  /* unfitted */\n",
       "  background-color: var(--sklearn-color-unfitted-level-0);\n",
       "}\n",
       "\n",
       "#sk-container-id-1 div.sk-estimator.fitted {\n",
       "  /* fitted */\n",
       "  background-color: var(--sklearn-color-fitted-level-0);\n",
       "}\n",
       "\n",
       "/* on hover */\n",
       "#sk-container-id-1 div.sk-estimator:hover {\n",
       "  /* unfitted */\n",
       "  background-color: var(--sklearn-color-unfitted-level-2);\n",
       "}\n",
       "\n",
       "#sk-container-id-1 div.sk-estimator.fitted:hover {\n",
       "  /* fitted */\n",
       "  background-color: var(--sklearn-color-fitted-level-2);\n",
       "}\n",
       "\n",
       "/* Specification for estimator info (e.g. \"i\" and \"?\") */\n",
       "\n",
       "/* Common style for \"i\" and \"?\" */\n",
       "\n",
       ".sk-estimator-doc-link,\n",
       "a:link.sk-estimator-doc-link,\n",
       "a:visited.sk-estimator-doc-link {\n",
       "  float: right;\n",
       "  font-size: smaller;\n",
       "  line-height: 1em;\n",
       "  font-family: monospace;\n",
       "  background-color: var(--sklearn-color-background);\n",
       "  border-radius: 1em;\n",
       "  height: 1em;\n",
       "  width: 1em;\n",
       "  text-decoration: none !important;\n",
       "  margin-left: 1ex;\n",
       "  /* unfitted */\n",
       "  border: var(--sklearn-color-unfitted-level-1) 1pt solid;\n",
       "  color: var(--sklearn-color-unfitted-level-1);\n",
       "}\n",
       "\n",
       ".sk-estimator-doc-link.fitted,\n",
       "a:link.sk-estimator-doc-link.fitted,\n",
       "a:visited.sk-estimator-doc-link.fitted {\n",
       "  /* fitted */\n",
       "  border: var(--sklearn-color-fitted-level-1) 1pt solid;\n",
       "  color: var(--sklearn-color-fitted-level-1);\n",
       "}\n",
       "\n",
       "/* On hover */\n",
       "div.sk-estimator:hover .sk-estimator-doc-link:hover,\n",
       ".sk-estimator-doc-link:hover,\n",
       "div.sk-label-container:hover .sk-estimator-doc-link:hover,\n",
       ".sk-estimator-doc-link:hover {\n",
       "  /* unfitted */\n",
       "  background-color: var(--sklearn-color-unfitted-level-3);\n",
       "  color: var(--sklearn-color-background);\n",
       "  text-decoration: none;\n",
       "}\n",
       "\n",
       "div.sk-estimator.fitted:hover .sk-estimator-doc-link.fitted:hover,\n",
       ".sk-estimator-doc-link.fitted:hover,\n",
       "div.sk-label-container:hover .sk-estimator-doc-link.fitted:hover,\n",
       ".sk-estimator-doc-link.fitted:hover {\n",
       "  /* fitted */\n",
       "  background-color: var(--sklearn-color-fitted-level-3);\n",
       "  color: var(--sklearn-color-background);\n",
       "  text-decoration: none;\n",
       "}\n",
       "\n",
       "/* Span, style for the box shown on hovering the info icon */\n",
       ".sk-estimator-doc-link span {\n",
       "  display: none;\n",
       "  z-index: 9999;\n",
       "  position: relative;\n",
       "  font-weight: normal;\n",
       "  right: .2ex;\n",
       "  padding: .5ex;\n",
       "  margin: .5ex;\n",
       "  width: min-content;\n",
       "  min-width: 20ex;\n",
       "  max-width: 50ex;\n",
       "  color: var(--sklearn-color-text);\n",
       "  box-shadow: 2pt 2pt 4pt #999;\n",
       "  /* unfitted */\n",
       "  background: var(--sklearn-color-unfitted-level-0);\n",
       "  border: .5pt solid var(--sklearn-color-unfitted-level-3);\n",
       "}\n",
       "\n",
       ".sk-estimator-doc-link.fitted span {\n",
       "  /* fitted */\n",
       "  background: var(--sklearn-color-fitted-level-0);\n",
       "  border: var(--sklearn-color-fitted-level-3);\n",
       "}\n",
       "\n",
       ".sk-estimator-doc-link:hover span {\n",
       "  display: block;\n",
       "}\n",
       "\n",
       "/* \"?\"-specific style due to the `<a>` HTML tag */\n",
       "\n",
       "#sk-container-id-1 a.estimator_doc_link {\n",
       "  float: right;\n",
       "  font-size: 1rem;\n",
       "  line-height: 1em;\n",
       "  font-family: monospace;\n",
       "  background-color: var(--sklearn-color-background);\n",
       "  border-radius: 1rem;\n",
       "  height: 1rem;\n",
       "  width: 1rem;\n",
       "  text-decoration: none;\n",
       "  /* unfitted */\n",
       "  color: var(--sklearn-color-unfitted-level-1);\n",
       "  border: var(--sklearn-color-unfitted-level-1) 1pt solid;\n",
       "}\n",
       "\n",
       "#sk-container-id-1 a.estimator_doc_link.fitted {\n",
       "  /* fitted */\n",
       "  border: var(--sklearn-color-fitted-level-1) 1pt solid;\n",
       "  color: var(--sklearn-color-fitted-level-1);\n",
       "}\n",
       "\n",
       "/* On hover */\n",
       "#sk-container-id-1 a.estimator_doc_link:hover {\n",
       "  /* unfitted */\n",
       "  background-color: var(--sklearn-color-unfitted-level-3);\n",
       "  color: var(--sklearn-color-background);\n",
       "  text-decoration: none;\n",
       "}\n",
       "\n",
       "#sk-container-id-1 a.estimator_doc_link.fitted:hover {\n",
       "  /* fitted */\n",
       "  background-color: var(--sklearn-color-fitted-level-3);\n",
       "}\n",
       "</style><div id=\"sk-container-id-1\" class=\"sk-top-container\"><div class=\"sk-text-repr-fallback\"><pre>GridSearchCV(cv=5, estimator=SVC(random_state=42),\n",
       "             param_grid={&#x27;C&#x27;: [0.01, 0.1, 1, 10, 100], &#x27;degree&#x27;: [2, 3],\n",
       "                         &#x27;kernel&#x27;: [&#x27;linear&#x27;, &#x27;rbf&#x27;, &#x27;poly&#x27;]},\n",
       "             scoring=&#x27;accuracy&#x27;, verbose=2)</pre><b>In a Jupyter environment, please rerun this cell to show the HTML representation or trust the notebook. <br />On GitHub, the HTML representation is unable to render, please try loading this page with nbviewer.org.</b></div><div class=\"sk-container\" hidden><div class=\"sk-item sk-dashed-wrapped\"><div class=\"sk-label-container\"><div class=\"sk-label fitted sk-toggleable\"><input class=\"sk-toggleable__control sk-hidden--visually\" id=\"sk-estimator-id-1\" type=\"checkbox\" ><label for=\"sk-estimator-id-1\" class=\"sk-toggleable__label fitted sk-toggleable__label-arrow fitted\">&nbsp;&nbsp;GridSearchCV<a class=\"sk-estimator-doc-link fitted\" rel=\"noreferrer\" target=\"_blank\" href=\"https://scikit-learn.org/1.5/modules/generated/sklearn.model_selection.GridSearchCV.html\">?<span>Documentation for GridSearchCV</span></a><span class=\"sk-estimator-doc-link fitted\">i<span>Fitted</span></span></label><div class=\"sk-toggleable__content fitted\"><pre>GridSearchCV(cv=5, estimator=SVC(random_state=42),\n",
       "             param_grid={&#x27;C&#x27;: [0.01, 0.1, 1, 10, 100], &#x27;degree&#x27;: [2, 3],\n",
       "                         &#x27;kernel&#x27;: [&#x27;linear&#x27;, &#x27;rbf&#x27;, &#x27;poly&#x27;]},\n",
       "             scoring=&#x27;accuracy&#x27;, verbose=2)</pre></div> </div></div><div class=\"sk-parallel\"><div class=\"sk-parallel-item\"><div class=\"sk-item\"><div class=\"sk-label-container\"><div class=\"sk-label fitted sk-toggleable\"><input class=\"sk-toggleable__control sk-hidden--visually\" id=\"sk-estimator-id-2\" type=\"checkbox\" ><label for=\"sk-estimator-id-2\" class=\"sk-toggleable__label fitted sk-toggleable__label-arrow fitted\">best_estimator_: SVC</label><div class=\"sk-toggleable__content fitted\"><pre>SVC(C=10, degree=2, random_state=42)</pre></div> </div></div><div class=\"sk-serial\"><div class=\"sk-item\"><div class=\"sk-estimator fitted sk-toggleable\"><input class=\"sk-toggleable__control sk-hidden--visually\" id=\"sk-estimator-id-3\" type=\"checkbox\" ><label for=\"sk-estimator-id-3\" class=\"sk-toggleable__label fitted sk-toggleable__label-arrow fitted\">&nbsp;SVC<a class=\"sk-estimator-doc-link fitted\" rel=\"noreferrer\" target=\"_blank\" href=\"https://scikit-learn.org/1.5/modules/generated/sklearn.svm.SVC.html\">?<span>Documentation for SVC</span></a></label><div class=\"sk-toggleable__content fitted\"><pre>SVC(C=10, degree=2, random_state=42)</pre></div> </div></div></div></div></div></div></div></div></div>"
      ],
      "text/plain": [
       "GridSearchCV(cv=5, estimator=SVC(random_state=42),\n",
       "             param_grid={'C': [0.01, 0.1, 1, 10, 100], 'degree': [2, 3],\n",
       "                         'kernel': ['linear', 'rbf', 'poly']},\n",
       "             scoring='accuracy', verbose=2)"
      ]
     },
     "execution_count": 29,
     "metadata": {},
     "output_type": "execute_result"
    }
   ],
   "source": [
    "grid_search = GridSearchCV(estimator=svm_classifier, param_grid=param_grid, cv=5, scoring='accuracy', verbose=2)\n",
    "grid_search.fit(X_train_pca, Y_train)"
   ]
  },
  {
   "cell_type": "code",
   "execution_count": 30,
   "metadata": {},
   "outputs": [
    {
     "name": "stdout",
     "output_type": "stream",
     "text": [
      "Best Parameters:\n",
      "\n",
      "C:10\n",
      "kernel:rbf\n",
      "degree:2\n"
     ]
    }
   ],
   "source": [
    "best_params = grid_search.best_params_\n",
    "print(\"Best Parameters:\\n\")\n",
    "print(f\"C:{best_params['C']}\")\n",
    "print(f\"kernel:{best_params['kernel']}\")\n",
    "print(f\"degree:{best_params['degree']}\")"
   ]
  },
  {
   "cell_type": "code",
   "execution_count": 31,
   "metadata": {},
   "outputs": [],
   "source": [
    "svm = SVC(C=best_params['C'], kernel=best_params['kernel'], degree=best_params['degree'], probability=True)\n",
    "svm.fit(X_train_pca, Y_train)\n",
    "\n",
    "Y_test_pred = svm.predict(X_test_pca)\n",
    "Y_test_prob = svm.predict_proba(X_test_pca)[:, 1]"
   ]
  },
  {
   "cell_type": "code",
   "execution_count": 32,
   "metadata": {},
   "outputs": [
    {
     "name": "stdout",
     "output_type": "stream",
     "text": [
      "Accuracy: 0.61\n"
     ]
    }
   ],
   "source": [
    "best_acc = accuracy_score(Y_test, Y_test_pred)\n",
    "print(f\"Accuracy: {best_acc:.2f}\")"
   ]
  },
  {
   "cell_type": "code",
   "execution_count": 33,
   "metadata": {},
   "outputs": [
    {
     "name": "stdout",
     "output_type": "stream",
     "text": [
      "AUC score: 0.65\n"
     ]
    }
   ],
   "source": [
    "fpr, tpr, thresholds = roc_curve(Y_test, Y_test_prob)\n",
    "roc_auc = roc_auc_score(Y_test, Y_test_prob)\n",
    "\n",
    "print(f\"AUC score: {roc_auc:.2f}\")"
   ]
  },
  {
   "cell_type": "code",
   "execution_count": 34,
   "metadata": {},
   "outputs": [
    {
     "data": {
      "image/png": "[encoded data removed]",
      "text/plain": [
       "<Figure size 640x480 with 1 Axes>"
      ]
     },
     "metadata": {},
     "output_type": "display_data"
    }
   ],
   "source": [
    "plt.plot(fpr, tpr, color='blue')\n",
    "plt.plot([0, 1], [0, 1], color='gray', linestyle='--')\n",
    "\n",
    "plt.xlabel('False Positive Rate')\n",
    "plt.ylabel('True Positive Rate')\n",
    "plt.title('ROC Curve')\n",
    "\n",
    "plt.show()"
   ]
  }
 ],
 "metadata": {
  "kernelspec": {
   "display_name": "tensorflow-env",
   "language": "python",
   "name": "python3"
  },
  "language_info": {
   "codemirror_mode": {
    "name": "ipython",
    "version": 3
   },
   "file_extension": ".py",
   "mimetype": "text/x-python",
   "name": "python",
   "nbconvert_exporter": "python",
   "pygments_lexer": "ipython3",
   "version": "3.11.9"
  }
 },
 "nbformat": 4,
 "nbformat_minor": 2
}
